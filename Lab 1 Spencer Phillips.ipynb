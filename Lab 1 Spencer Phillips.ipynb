{
 "cells": [
  {
   "cell_type": "markdown",
   "metadata": {},
   "source": [
    "<h1>Summary of Code </h1>\n",
    "<p>\n",
    "The code that I will be utilizing for this Lab is from the first assignment in the STA 141 class from Winter '16 and is in the R language. The assignment involved a large dataset of vehicles that are for sale taken from a website and analysis of the data to answer over sixteen questions. The questions and the data set can be found at <a href=\"http://eeyore.ucdavis.edu/sta141/Hws/assignment1.html\">this course webpage</a></p>"
   ]
  },
  {
   "cell_type": "markdown",
   "metadata": {},
   "source": [
    "<h2>Preliminary Steps</h2>\n",
    "<p>\n",
    "The first thing that I did with this code was to look at the size of the dataset, the variables, and the types of the variables. To do this I ran the following code to find that the data gives 34677 values to work with  and has twenty-six different variables being mostly numeric or character values.\n",
    "</p>"
   ]
  },
  {
   "cell_type": "code",
   "execution_count": 19,
   "metadata": {
    "collapsed": false
   },
   "outputs": [
    {
     "data": {
      "text/html": [
       "34677"
      ],
      "text/latex": [
       "34677"
      ],
      "text/markdown": [
       "34677"
      ],
      "text/plain": [
       "[1] 34677"
      ]
     },
     "metadata": {},
     "output_type": "display_data"
    },
    {
     "data": {
      "text/html": [
       "<ol class=list-inline>\n",
       "\t<li>'id'</li>\n",
       "\t<li>'title'</li>\n",
       "\t<li>'body'</li>\n",
       "\t<li>'lat'</li>\n",
       "\t<li>'long'</li>\n",
       "\t<li>'posted'</li>\n",
       "\t<li>'updated'</li>\n",
       "\t<li>'drive'</li>\n",
       "\t<li>'odometer'</li>\n",
       "\t<li>'type'</li>\n",
       "\t<li>'header'</li>\n",
       "\t<li>'condition'</li>\n",
       "\t<li>'cylinders'</li>\n",
       "\t<li>'fuel'</li>\n",
       "\t<li>'size'</li>\n",
       "\t<li>'transmission'</li>\n",
       "\t<li>'byOwner'</li>\n",
       "\t<li>'city'</li>\n",
       "\t<li>'time'</li>\n",
       "\t<li>'description'</li>\n",
       "\t<li>'location'</li>\n",
       "\t<li>'url'</li>\n",
       "\t<li>'price'</li>\n",
       "\t<li>'year'</li>\n",
       "\t<li>'maker'</li>\n",
       "\t<li>'makerMethod'</li>\n",
       "</ol>\n"
      ],
      "text/latex": [
       "\\begin{enumerate*}\n",
       "\\item 'id'\n",
       "\\item 'title'\n",
       "\\item 'body'\n",
       "\\item 'lat'\n",
       "\\item 'long'\n",
       "\\item 'posted'\n",
       "\\item 'updated'\n",
       "\\item 'drive'\n",
       "\\item 'odometer'\n",
       "\\item 'type'\n",
       "\\item 'header'\n",
       "\\item 'condition'\n",
       "\\item 'cylinders'\n",
       "\\item 'fuel'\n",
       "\\item 'size'\n",
       "\\item 'transmission'\n",
       "\\item 'byOwner'\n",
       "\\item 'city'\n",
       "\\item 'time'\n",
       "\\item 'description'\n",
       "\\item 'location'\n",
       "\\item 'url'\n",
       "\\item 'price'\n",
       "\\item 'year'\n",
       "\\item 'maker'\n",
       "\\item 'makerMethod'\n",
       "\\end{enumerate*}\n"
      ],
      "text/markdown": [
       "1. 'id'\n",
       "2. 'title'\n",
       "3. 'body'\n",
       "4. 'lat'\n",
       "5. 'long'\n",
       "6. 'posted'\n",
       "7. 'updated'\n",
       "8. 'drive'\n",
       "9. 'odometer'\n",
       "10. 'type'\n",
       "11. 'header'\n",
       "12. 'condition'\n",
       "13. 'cylinders'\n",
       "14. 'fuel'\n",
       "15. 'size'\n",
       "16. 'transmission'\n",
       "17. 'byOwner'\n",
       "18. 'city'\n",
       "19. 'time'\n",
       "20. 'description'\n",
       "21. 'location'\n",
       "22. 'url'\n",
       "23. 'price'\n",
       "24. 'year'\n",
       "25. 'maker'\n",
       "26. 'makerMethod'\n",
       "\n",
       "\n"
      ],
      "text/plain": [
       " [1] \"id\"           \"title\"        \"body\"         \"lat\"          \"long\"        \n",
       " [6] \"posted\"       \"updated\"      \"drive\"        \"odometer\"     \"type\"        \n",
       "[11] \"header\"       \"condition\"    \"cylinders\"    \"fuel\"         \"size\"        \n",
       "[16] \"transmission\" \"byOwner\"      \"city\"         \"time\"         \"description\" \n",
       "[21] \"location\"     \"url\"          \"price\"        \"year\"         \"maker\"       \n",
       "[26] \"makerMethod\" "
      ]
     },
     "metadata": {},
     "output_type": "display_data"
    },
    {
     "data": {
      "text/html": [
       "<dl>\n",
       "\t<dt>$id</dt>\n",
       "\t\t<dd>'character'</dd>\n",
       "\t<dt>$title</dt>\n",
       "\t\t<dd>'character'</dd>\n",
       "\t<dt>$body</dt>\n",
       "\t\t<dd>'character'</dd>\n",
       "\t<dt>$lat</dt>\n",
       "\t\t<dd>'numeric'</dd>\n",
       "\t<dt>$long</dt>\n",
       "\t\t<dd>'numeric'</dd>\n",
       "\t<dt>$posted</dt>\n",
       "\t\t<dd><ol class=list-inline>\n",
       "\t<li>'POSIXct'</li>\n",
       "\t<li>'POSIXt'</li>\n",
       "</ol>\n",
       "</dd>\n",
       "\t<dt>$updated</dt>\n",
       "\t\t<dd><ol class=list-inline>\n",
       "\t<li>'POSIXct'</li>\n",
       "\t<li>'POSIXt'</li>\n",
       "</ol>\n",
       "</dd>\n",
       "\t<dt>$drive</dt>\n",
       "\t\t<dd>'factor'</dd>\n",
       "\t<dt>$odometer</dt>\n",
       "\t\t<dd>'integer'</dd>\n",
       "\t<dt>$type</dt>\n",
       "\t\t<dd>'factor'</dd>\n",
       "\t<dt>$header</dt>\n",
       "\t\t<dd>'character'</dd>\n",
       "\t<dt>$condition</dt>\n",
       "\t\t<dd>'factor'</dd>\n",
       "\t<dt>$cylinders</dt>\n",
       "\t\t<dd>'integer'</dd>\n",
       "\t<dt>$fuel</dt>\n",
       "\t\t<dd>'factor'</dd>\n",
       "\t<dt>$size</dt>\n",
       "\t\t<dd>'factor'</dd>\n",
       "\t<dt>$transmission</dt>\n",
       "\t\t<dd>'factor'</dd>\n",
       "\t<dt>$byOwner</dt>\n",
       "\t\t<dd>'logical'</dd>\n",
       "\t<dt>$city</dt>\n",
       "\t\t<dd>'factor'</dd>\n",
       "\t<dt>$time</dt>\n",
       "\t\t<dd><ol class=list-inline>\n",
       "\t<li>'POSIXct'</li>\n",
       "\t<li>'POSIXt'</li>\n",
       "</ol>\n",
       "</dd>\n",
       "\t<dt>$description</dt>\n",
       "\t\t<dd>'character'</dd>\n",
       "\t<dt>$location</dt>\n",
       "\t\t<dd>'character'</dd>\n",
       "\t<dt>$url</dt>\n",
       "\t\t<dd>'character'</dd>\n",
       "\t<dt>$price</dt>\n",
       "\t\t<dd>'integer'</dd>\n",
       "\t<dt>$year</dt>\n",
       "\t\t<dd>'integer'</dd>\n",
       "\t<dt>$maker</dt>\n",
       "\t\t<dd>'character'</dd>\n",
       "\t<dt>$makerMethod</dt>\n",
       "\t\t<dd>'numeric'</dd>\n",
       "</dl>\n"
      ],
      "text/latex": [
       "\\begin{description}\n",
       "\\item[\\$id] 'character'\n",
       "\\item[\\$title] 'character'\n",
       "\\item[\\$body] 'character'\n",
       "\\item[\\$lat] 'numeric'\n",
       "\\item[\\$long] 'numeric'\n",
       "\\item[\\$posted] \\begin{enumerate*}\n",
       "\\item 'POSIXct'\n",
       "\\item 'POSIXt'\n",
       "\\end{enumerate*}\n",
       "\n",
       "\\item[\\$updated] \\begin{enumerate*}\n",
       "\\item 'POSIXct'\n",
       "\\item 'POSIXt'\n",
       "\\end{enumerate*}\n",
       "\n",
       "\\item[\\$drive] 'factor'\n",
       "\\item[\\$odometer] 'integer'\n",
       "\\item[\\$type] 'factor'\n",
       "\\item[\\$header] 'character'\n",
       "\\item[\\$condition] 'factor'\n",
       "\\item[\\$cylinders] 'integer'\n",
       "\\item[\\$fuel] 'factor'\n",
       "\\item[\\$size] 'factor'\n",
       "\\item[\\$transmission] 'factor'\n",
       "\\item[\\$byOwner] 'logical'\n",
       "\\item[\\$city] 'factor'\n",
       "\\item[\\$time] \\begin{enumerate*}\n",
       "\\item 'POSIXct'\n",
       "\\item 'POSIXt'\n",
       "\\end{enumerate*}\n",
       "\n",
       "\\item[\\$description] 'character'\n",
       "\\item[\\$location] 'character'\n",
       "\\item[\\$url] 'character'\n",
       "\\item[\\$price] 'integer'\n",
       "\\item[\\$year] 'integer'\n",
       "\\item[\\$maker] 'character'\n",
       "\\item[\\$makerMethod] 'numeric'\n",
       "\\end{description}\n"
      ],
      "text/markdown": [
       "$id\n",
       ":   'character'\n",
       "$title\n",
       ":   'character'\n",
       "$body\n",
       ":   'character'\n",
       "$lat\n",
       ":   'numeric'\n",
       "$long\n",
       ":   'numeric'\n",
       "$posted\n",
       ":   1. 'POSIXct'\n",
       "2. 'POSIXt'\n",
       "\n",
       "\n",
       "\n",
       "$updated\n",
       ":   1. 'POSIXct'\n",
       "2. 'POSIXt'\n",
       "\n",
       "\n",
       "\n",
       "$drive\n",
       ":   'factor'\n",
       "$odometer\n",
       ":   'integer'\n",
       "$type\n",
       ":   'factor'\n",
       "$header\n",
       ":   'character'\n",
       "$condition\n",
       ":   'factor'\n",
       "$cylinders\n",
       ":   'integer'\n",
       "$fuel\n",
       ":   'factor'\n",
       "$size\n",
       ":   'factor'\n",
       "$transmission\n",
       ":   'factor'\n",
       "$byOwner\n",
       ":   'logical'\n",
       "$city\n",
       ":   'factor'\n",
       "$time\n",
       ":   1. 'POSIXct'\n",
       "2. 'POSIXt'\n",
       "\n",
       "\n",
       "\n",
       "$description\n",
       ":   'character'\n",
       "$location\n",
       ":   'character'\n",
       "$url\n",
       ":   'character'\n",
       "$price\n",
       ":   'integer'\n",
       "$year\n",
       ":   'integer'\n",
       "$maker\n",
       ":   'character'\n",
       "$makerMethod\n",
       ":   'numeric'\n",
       "\n",
       "\n"
      ],
      "text/plain": [
       "$id\n",
       "[1] \"character\"\n",
       "\n",
       "$title\n",
       "[1] \"character\"\n",
       "\n",
       "$body\n",
       "[1] \"character\"\n",
       "\n",
       "$lat\n",
       "[1] \"numeric\"\n",
       "\n",
       "$long\n",
       "[1] \"numeric\"\n",
       "\n",
       "$posted\n",
       "[1] \"POSIXct\" \"POSIXt\" \n",
       "\n",
       "$updated\n",
       "[1] \"POSIXct\" \"POSIXt\" \n",
       "\n",
       "$drive\n",
       "[1] \"factor\"\n",
       "\n",
       "$odometer\n",
       "[1] \"integer\"\n",
       "\n",
       "$type\n",
       "[1] \"factor\"\n",
       "\n",
       "$header\n",
       "[1] \"character\"\n",
       "\n",
       "$condition\n",
       "[1] \"factor\"\n",
       "\n",
       "$cylinders\n",
       "[1] \"integer\"\n",
       "\n",
       "$fuel\n",
       "[1] \"factor\"\n",
       "\n",
       "$size\n",
       "[1] \"factor\"\n",
       "\n",
       "$transmission\n",
       "[1] \"factor\"\n",
       "\n",
       "$byOwner\n",
       "[1] \"logical\"\n",
       "\n",
       "$city\n",
       "[1] \"factor\"\n",
       "\n",
       "$time\n",
       "[1] \"POSIXct\" \"POSIXt\" \n",
       "\n",
       "$description\n",
       "[1] \"character\"\n",
       "\n",
       "$location\n",
       "[1] \"character\"\n",
       "\n",
       "$url\n",
       "[1] \"character\"\n",
       "\n",
       "$price\n",
       "[1] \"integer\"\n",
       "\n",
       "$year\n",
       "[1] \"integer\"\n",
       "\n",
       "$maker\n",
       "[1] \"character\"\n",
       "\n",
       "$makerMethod\n",
       "[1] \"numeric\"\n"
      ]
     },
     "metadata": {},
     "output_type": "display_data"
    }
   ],
   "source": [
    "load(\"C:/Users/Spencer/OneDrive - UC Davis/School/Old/College Junior/STA 141/Assignment 1/vehicles.rda\")\n",
    "nrow(vposts)\n",
    "names(vposts)\n",
    "lapply(vposts, class)"
   ]
  },
  {
   "cell_type": "markdown",
   "metadata": {},
   "source": [
    "<h2>Visualization of data</h2>\n",
    "<p>\n",
    "I then decided to visualize the data using a histogram to see the distribution of the data and see if there are any possible outliers that may be influenceing the data at all. Then using this I could see that there was an issue with the data in that there were some extreme outliers that apparently cost upwards of six hundred million dollars. I assumed there was a massive problem in this and decided to solve it by looking at those special cases through the URL, header, and other variables to see if the price was put up in error or if it needed changing to a more manageable price.\n",
    "</p>"
   ]
  },
  {
   "cell_type": "code",
   "execution_count": 20,
   "metadata": {
    "collapsed": false
   },
   "outputs": [
    {
     "data": {
      "text/plain": [
       "$`10%`\n",
       "NULL\n",
       "\n",
       "$`20%`\n",
       "NULL\n",
       "\n",
       "$`30%`\n",
       "NULL\n",
       "\n",
       "$`40%`\n",
       "NULL\n",
       "\n",
       "$`50%`\n",
       "NULL\n",
       "\n",
       "$`60%`\n",
       "NULL\n",
       "\n",
       "$`70%`\n",
       "NULL\n",
       "\n",
       "$`80%`\n",
       "NULL\n",
       "\n",
       "$`90%`\n",
       "NULL\n",
       "\n",
       "$`100%`\n",
       "NULL\n"
      ]
     },
     "metadata": {},
     "output_type": "display_data"
    },
    {
     "data": {
      "text/html": [
       "600030000"
      ],
      "text/latex": [
       "600030000"
      ],
      "text/markdown": [
       "600030000"
      ],
      "text/plain": [
       "[1] 600030000"
      ]
     },
     "metadata": {},
     "output_type": "display_data"
    },
    {
     "data": {
      "text/plain": [
       "     Min.   1st Qu.    Median      Mean   3rd Qu.      Max.      NA's \n",
       "        1      2995      6700     49450     13500 600000000      3328 "
      ]
     },
     "metadata": {},
     "output_type": "display_data"
    },
    {
     "data": {
      "image/png": "[encoded data removed]",
      "text/plain": [
       "Plot with title \"Histogram of Car Prices for Sale Online\""
      ]
     },
     "metadata": {},
     "output_type": "display_data"
    }
   ],
   "source": [
    "meanprice=mean(vposts$price, na.rm=TRUE)\n",
    "medianprice=median(vposts$price, na.rm = TRUE)\n",
    "pricequanitle=quantile(vposts$price, c(.1, .2, .3, .4, .5, .6, .7, .8, .9, 1),na.rm = TRUE)\n",
    "hist(vposts$price, main=\"Histogram of Car Prices for Sale Online\", xlab=\"Price in US Dollars\")\n",
    "abline(v=meanprice, col=\"red\")\n",
    "abline(v=medianprice, col=\"blue\")\n",
    "lapply(pricequanitle, function(r) abline(v=r, col=\"green\"))\n",
    "legend(\"topright\", legend=c(\"Mean\",\"Median\", \"Quantiles\"), fill = c(\"red\",\"blue\",\"green\"))\n",
    "rug(vposts$price,lwd=4)\n",
    "max(vposts$price, na.rm=TRUE)\n",
    "summary(vposts$price)\n",
    "vposts$price [ !is.na(vposts$price) & vposts$price == max(vposts$price, na.rm = TRUE) ] =5000"
   ]
  },
  {
   "cell_type": "markdown",
   "metadata": {},
   "source": [
    "<p> By doing this I am looking for the max price, then analyzing the details of the vehicle using the other variables (the subset which I have commented out to avoid unnecessary complexity in the markdown) and then modifying the price using the information given by the subset. For example, the car that cost 600 million dollars actually was priced in a range of 6,000 to 30,000 dollars which was read as over 600 million dollars by combining the two numbers. I changed this by making the price into the average.\n",
    "</p>\n",
    "<p>For the remaining they were cars that were overpriced for the quality of car so I changed their prices to their Kelly Blue Book values in order to make them more accurate. The most expensive car then is a 2006 Ford GT priced at 300,000 dollars.\n",
    "</p>\n",
    "<p> After this we can run the histogram again to get a more accurate histogram of the data which, while still heavily skewed right is still a better estimate, showing that most values are less than 20,000 dollars. </p>"
   ]
  },
  {
   "cell_type": "code",
   "execution_count": 21,
   "metadata": {
    "collapsed": false
   },
   "outputs": [
    {
     "data": {
      "text/html": [
       "30002500"
      ],
      "text/latex": [
       "30002500"
      ],
      "text/markdown": [
       "30002500"
      ],
      "text/plain": [
       "[1] 30002500"
      ]
     },
     "metadata": {},
     "output_type": "display_data"
    },
    {
     "data": {
      "text/html": [
       "9999999"
      ],
      "text/latex": [
       "9999999"
      ],
      "text/markdown": [
       "9999999"
      ],
      "text/plain": [
       "[1] 9999999"
      ]
     },
     "metadata": {},
     "output_type": "display_data"
    },
    {
     "data": {
      "text/html": [
       "569500"
      ],
      "text/latex": [
       "569500"
      ],
      "text/markdown": [
       "569500"
      ],
      "text/plain": [
       "[1] 569500"
      ]
     },
     "metadata": {},
     "output_type": "display_data"
    },
    {
     "data": {
      "text/html": [
       "559500"
      ],
      "text/latex": [
       "559500"
      ],
      "text/markdown": [
       "559500"
      ],
      "text/plain": [
       "[1] 559500"
      ]
     },
     "metadata": {},
     "output_type": "display_data"
    },
    {
     "data": {
      "text/html": [
       "4e+05"
      ],
      "text/latex": [
       "4e+05"
      ],
      "text/markdown": [
       "4e+05"
      ],
      "text/plain": [
       "[1] 4e+05"
      ]
     },
     "metadata": {},
     "output_type": "display_data"
    },
    {
     "data": {
      "text/html": [
       "359000"
      ],
      "text/latex": [
       "359000"
      ],
      "text/markdown": [
       "359000"
      ],
      "text/plain": [
       "[1] 359000"
      ]
     },
     "metadata": {},
     "output_type": "display_data"
    },
    {
     "data": {
      "text/html": [
       "3e+05"
      ],
      "text/latex": [
       "3e+05"
      ],
      "text/markdown": [
       "3e+05"
      ],
      "text/plain": [
       "[1] 3e+05"
      ]
     },
     "metadata": {},
     "output_type": "display_data"
    },
    {
     "data": {
      "text/html": [
       "286763"
      ],
      "text/latex": [
       "286763"
      ],
      "text/markdown": [
       "286763"
      ],
      "text/plain": [
       "[1] 286763"
      ]
     },
     "metadata": {},
     "output_type": "display_data"
    }
   ],
   "source": [
    "max(vposts$price, na.rm=TRUE)\n",
    "#subset(vposts, vposts$price==600030000)\n",
    "vposts$price [ !is.na(vposts$price) & vposts$price == max(vposts$price, na.rm = TRUE) ] =18000\n",
    "max(vposts$price, na.rm=TRUE)\n",
    "#subset(vposts, vposts$price==30002500)\n",
    "vposts$price [ !is.na(vposts$price) & vposts$price == max(vposts$price, na.rm = TRUE) ] =3500\n",
    "max(vposts$price, na.rm=TRUE)\n",
    "#subset(vposts, vposts$price==9999999)\n",
    "vposts$price [ !is.na(vposts$price) & vposts$price == max(vposts$price, na.rm = TRUE) ] =1700\n",
    "max(vposts$price, na.rm=TRUE)\n",
    "#subset(vposts, vposts$price==569500)\n",
    "vposts$price [ !is.na(vposts$price) & vposts$price == max(vposts$price, na.rm = TRUE) ] =6300\n",
    "max(vposts$price, na.rm=TRUE)\n",
    "#subset(vposts, vposts$price==559500)\n",
    "vposts$price [ !is.na(vposts$price) & vposts$price == max(vposts$price, na.rm = TRUE) ] =10100\n",
    "max(vposts$price, na.rm=TRUE)\n",
    "#subset(vposts, vposts$price==400000)\n",
    "vposts$price [ !is.na(vposts$price) & vposts$price == max(vposts$price, na.rm = TRUE) ] =300000\n",
    "max(vposts$price, na.rm=TRUE)\n",
    "#subset(vposts, vposts$price==359000)\n",
    "vposts$price [ !is.na(vposts$price) & vposts$price == max(vposts$price, na.rm = TRUE) ] =19400\n",
    "max(vposts$price, na.rm=TRUE)"
   ]
  },
  {
   "cell_type": "code",
   "execution_count": 22,
   "metadata": {
    "collapsed": false
   },
   "outputs": [
    {
     "data": {
      "text/plain": [
       "$`10%`\n",
       "NULL\n",
       "\n",
       "$`20%`\n",
       "NULL\n",
       "\n",
       "$`30%`\n",
       "NULL\n",
       "\n",
       "$`40%`\n",
       "NULL\n",
       "\n",
       "$`50%`\n",
       "NULL\n",
       "\n",
       "$`60%`\n",
       "NULL\n",
       "\n",
       "$`70%`\n",
       "NULL\n",
       "\n",
       "$`80%`\n",
       "NULL\n",
       "\n",
       "$`90%`\n",
       "NULL\n",
       "\n",
       "$`100%`\n",
       "NULL\n"
      ]
     },
     "metadata": {},
     "output_type": "display_data"
    },
    {
     "data": {
      "text/html": [
       "286763"
      ],
      "text/latex": [
       "286763"
      ],
      "text/markdown": [
       "286763"
      ],
      "text/plain": [
       "[1] 286763"
      ]
     },
     "metadata": {},
     "output_type": "display_data"
    },
    {
     "data": {
      "text/plain": [
       "   Min. 1st Qu.  Median    Mean 3rd Qu.    Max.    NA's \n",
       "      1    2995    6700    9835   13500  286800    3328 "
      ]
     },
     "metadata": {},
     "output_type": "display_data"
    },
    {
     "data": {
      "image/png": "[encoded data removed]",
      "text/plain": [
       "Plot with title \"Histogram of Car Prices for Sale Online\""
      ]
     },
     "metadata": {},
     "output_type": "display_data"
    }
   ],
   "source": [
    "meanprice=mean(vposts$price, na.rm=TRUE)\n",
    "medianprice=median(vposts$price, na.rm = TRUE)\n",
    "pricequanitle=quantile(vposts$price, c(.1, .2, .3, .4, .5, .6, .7, .8, .9, 1),na.rm = TRUE)\n",
    "hist(vposts$price, main=\"Histogram of Car Prices for Sale Online\", xlab=\"Price in US Dollars\")\n",
    "abline(v=meanprice, col=\"red\")\n",
    "abline(v=medianprice, col=\"blue\")\n",
    "lapply(pricequanitle, function(r) abline(v=r, col=\"green\"))\n",
    "legend(\"topright\", legend=c(\"Mean\",\"Median\", \"Quantiles\"), fill = c(\"red\",\"blue\",\"green\"))\n",
    "rug(vposts$price,lwd=4)\n",
    "max(vposts$price, na.rm=TRUE)\n",
    "summary(vposts$price)\n",
    "vposts$price [ !is.na(vposts$price) & vposts$price == max(vposts$price, na.rm = TRUE) ] =5000"
   ]
  },
  {
   "cell_type": "markdown",
   "metadata": {},
   "source": [
    "<h2>Location of Vehicles being Sold</h2>\n",
    "<p>We are also interested in where these vehicles are being sold throughout the United States, first through we want to first look at what cities the data set takes data from.</p>\n"
   ]
  },
  {
   "cell_type": "code",
   "execution_count": 23,
   "metadata": {
    "collapsed": false
   },
   "outputs": [
    {
     "data": {
      "text/html": [
       "<ol class=list-inline>\n",
       "\t<li>boston</li>\n",
       "\t<li>chicago</li>\n",
       "\t<li>denver</li>\n",
       "\t<li>lasvegas</li>\n",
       "\t<li>nyc</li>\n",
       "\t<li>sac</li>\n",
       "\t<li>sfbay</li>\n",
       "</ol>\n"
      ],
      "text/latex": [
       "\\begin{enumerate*}\n",
       "\\item boston\n",
       "\\item chicago\n",
       "\\item denver\n",
       "\\item lasvegas\n",
       "\\item nyc\n",
       "\\item sac\n",
       "\\item sfbay\n",
       "\\end{enumerate*}\n"
      ],
      "text/markdown": [
       "1. boston\n",
       "2. chicago\n",
       "3. denver\n",
       "4. lasvegas\n",
       "5. nyc\n",
       "6. sac\n",
       "7. sfbay\n",
       "\n",
       "\n"
      ],
      "text/plain": [
       "[1] boston   chicago  denver   lasvegas nyc      sac      sfbay   \n",
       "Levels: boston chicago denver lasvegas nyc sac sfbay"
      ]
     },
     "metadata": {},
     "output_type": "display_data"
    }
   ],
   "source": [
    "unique(vposts$city)"
   ]
  },
  {
   "cell_type": "markdown",
   "metadata": {},
   "source": [
    "<p>We see that the main places that are taken from are Boston, Chicago, Denver, Las Vegas, New York City, and the San Francisco Bay Area.\n",
    "</p>\n",
    "<p>The data also gives us the longitude and lattitude of the locations and lets us be able to then place these onto a map of the United States to see the locations.</p>"
   ]
  },
  {
   "cell_type": "code",
   "execution_count": 24,
   "metadata": {
    "collapsed": false
   },
   "outputs": [
    {
     "data": {
      "image/png": "[encoded data removed]",
      "text/plain": [
       "plot without title"
      ]
     },
     "metadata": {},
     "output_type": "display_data"
    }
   ],
   "source": [
    "library(maps)\n",
    "map(database=\"usa\")\n",
    "points(vposts$long, vposts$lat, col=\"red\",pch=\".\")"
   ]
  },
  {
   "cell_type": "markdown",
   "metadata": {},
   "source": [
    "<p>We see that there is concentrations around all of these metropolitan areas that are referenced above but that there are also some in locations that are far from these areas with some places that are in Texas, Southern California, Arizona, Florida and the Pacific Northwest</p>"
   ]
  },
  {
   "cell_type": "markdown",
   "metadata": {},
   "source": [
    "<h2>Analyzing How the Number miles driven relates to Price and Age</h2>\n",
    "<p>We then want to look at how the miles driven on a car, or as we will call it, odometer. We will also change all cars who have an odometer larger than one million to equal one million to fix some of the outliers that we have as well as adding a new variable called \"Age\" which takes the year and then subtracts it by the year of the car (the second line of code deals with an outlier in the data). We then create a smooth scatter plot to view the data and see what it looks like. </p>"
   ]
  },
  {
   "cell_type": "code",
   "execution_count": 25,
   "metadata": {
    "collapsed": false
   },
   "outputs": [
    {
     "data": {
      "image/png": "[encoded data removed]",
      "text/plain": [
       "Plot with title \"Age vs Odometer\""
      ]
     },
     "metadata": {},
     "output_type": "display_data"
    },
    {
     "data": {
      "image/png": "[encoded data removed]",
      "text/plain": [
       "Plot with title \"Price vs Odometer\""
      ]
     },
     "metadata": {},
     "output_type": "display_data"
    }
   ],
   "source": [
    "vposts[which(vposts$odometer > 1e6),\"odometer\"] = 1e6\n",
    "vposts$age=2015-vposts$year\n",
    "vposts$age[vposts$age==2011] =4\n",
    "smoothScatter(vposts$age,vposts$odometer,ylim=range(vposts$odometer, na.rm = TRUE), main=\"Age vs Odometer\", xlab=\"Age in Years\",ylab=\"Odometer in Miles\" )\n",
    "smoothScatter(vposts$price, vposts$odometer,ylim=range(vposts$odometer, na.rm = TRUE), main=\"Price vs Odometer\", xlab=\"Price in Dollars\",ylab=\"Odometer in Miles\" )\n"
   ]
  },
  {
   "cell_type": "markdown",
   "metadata": {},
   "source": [
    "<p>From this we can see in the first graph that there is a strong correlation visual between the miles driven and the age of the car. However, there are many cars that also have close to zero miles on it and are incredibly old, I decided that these may be vintage cars or perhaps the bodies of cars that cannot particularly have an odometer count but can still be sold as cars.\n",
    "</p>\n",
    "<p>When looking at Odometer against price we see that many low price cars have higher odometers with a particular bunch up in the top right who are sold at a low price and have close to the max miles driven that we have. Most of the more expensive cars as well have a low number of miles driven with most of the high milage cars caping out at some point.</p>"
   ]
  },
  {
   "cell_type": "markdown",
   "metadata": {},
   "source": [
    "<h2>What about the older cars? </h2>\n",
    "<p>We also want to look at some of the older cars, which we defined as cars whose make was before the year 2000, a year chosen due to the fact that the average age of a car was over ten years old, and wanted to see what were the main manufacturers of these old cars and what their prices tended to be as well.</p>"
   ]
  },
  {
   "cell_type": "code",
   "execution_count": 26,
   "metadata": {
    "collapsed": false
   },
   "outputs": [
    {
     "data": {},
     "metadata": {},
     "output_type": "display_data"
    },
    {
     "data": {
      "image/png": "[encoded data removed]",
      "text/plain": [
       "plot without title"
      ]
     },
     "metadata": {},
     "output_type": "display_data"
    },
    {
     "data": {
      "image/png": "[encoded data removed]",
      "text/plain": [
       "Plot with title \"Histogrm of the Prices of Old Cars\""
      ]
     },
     "metadata": {},
     "output_type": "display_data"
    }
   ],
   "source": [
    "oldCars=subset(vposts,year<2000)\n",
    "table=table(oldCars[\"maker\"])\n",
    "remove=names(table[table<20])\n",
    "oldCars$newmaker=oldCars$maker\n",
    "\n",
    "oldCars$newmaker[oldCars$newmaker %in% remove]=\"misc\"\n",
    "library(lattice)\n",
    "output=sort(table(oldCars$newmaker))\n",
    "barchart(output, main=\"Number of Old Cars per Manufacturer\", xlab=\"Count\",ylab=\"Maker\")\n",
    "hist(oldCars$price, xlab = \"Price in USD\", main=\"Histogrm of the Prices of Old Cars\")"
   ]
  },
  {
   "cell_type": "markdown",
   "metadata": {},
   "source": [
    "<p>We see that the oldest cars tend to be made by Ford, Chevrolet, and Toyota. This makes sense due to these cars being some of the largest car brands in the world, but it surprises me somewhat due to the fact that Honda, and Toyota were not higher up on the list.\n",
    "</p>\n",
    "<p>When looking at the price we still see the issue of being skewed the to right due to extreme outliers, possibly \"classic\" cars\" whose prices are higher. Still we see that most of the cars are in the leftmost category being less than 10,000 dollars.</p>"
   ]
  },
  {
   "cell_type": "markdown",
   "metadata": {},
   "source": [
    "<h2>Conclusion</h2>\n",
    "<p>This assignment was one of my first forrays into working with incredibly large datasets and was one that I found both frustrating and incredibly enjoyable when things worked out in the end. I found out many interesting findings that I have shown here in this markdown analysis that I hope you enjoy as well.</p>"
   ]
  }
 ],
 "metadata": {
  "anaconda-cloud": {},
  "kernelspec": {
   "display_name": "R",
   "language": "R",
   "name": "ir"
  },
  "language_info": {
   "codemirror_mode": "r",
   "file_extension": ".r",
   "mimetype": "text/x-r-source",
   "name": "R",
   "pygments_lexer": "r",
   "version": "3.3.2"
  }
 },
 "nbformat": 4,
 "nbformat_minor": 1
}
